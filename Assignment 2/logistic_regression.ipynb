{
 "cells": [
  {
   "cell_type": "markdown",
   "metadata": {},
   "source": [
    "# Titanic: Machine Learning from Disaster"
   ]
  },
  {
   "cell_type": "markdown",
   "metadata": {},
   "source": [
    "## Name : Ahmad Mohammad Abdullah Mohammad\n",
    "## ID : 1300180\n",
    "## Kaggle username: ahmadsiwi\n",
    "## Score: 0.72727"
   ]
  },
  {
   "cell_type": "markdown",
   "metadata": {},
   "source": [
    "## Logistic Regression"
   ]
  },
  {
   "cell_type": "markdown",
   "metadata": {},
   "source": [
    "### Requirements"
   ]
  },
  {
   "cell_type": "code",
   "execution_count": 1,
   "metadata": {},
   "outputs": [],
   "source": [
    "import pandas as pd\n",
    "import numpy as np\n",
    "import csv as csv"
   ]
  },
  {
   "cell_type": "markdown",
   "metadata": {},
   "source": [
    "### Reading data"
   ]
  },
  {
   "cell_type": "code",
   "execution_count": 2,
   "metadata": {},
   "outputs": [],
   "source": [
    "data = pd.read_csv(\"train.csv\")\n",
    "test = pd.read_csv(\"test.csv\")"
   ]
  },
  {
   "cell_type": "markdown",
   "metadata": {},
   "source": [
    "### Some preprocessing"
   ]
  },
  {
   "cell_type": "code",
   "execution_count": 3,
   "metadata": {},
   "outputs": [],
   "source": [
    "#same preprocessing as the previous assignment\n",
    "data[\"Gender\"]=np.where(data[\"Sex\"]==\"male\",0,1)\n",
    "test[\"Gender\"]=np.where(test[\"Sex\"]==\"male\",0,1)\n",
    "data[\"Numbered_Embarked\"]=np.where(data[\"Embarked\"]==\"S\",0, np.where(data[\"Embarked\"]==\"C\",1, np.where(data[\"Embarked\"]==\"Q\",2,3)))\n",
    "test[\"Numbered_Embarked\"]=np.where(test[\"Embarked\"]==\"S\",0, np.where(test[\"Embarked\"]==\"C\",1, np.where(test[\"Embarked\"]==\"Q\",2,3)))\n",
    "median_age = data['Age'].dropna().median()\n",
    "if len(data.Age[ data.Age.isnull() ]) > 0:\n",
    "    data.loc[ (data.Age.isnull()), 'Age'] = median_age\n",
    "median_fare = data['Fare'].dropna().median()\n",
    "if len(data.Fare[ data.Fare.isnull() ]) > 0:\n",
    "    data.loc[ (data.Fare.isnull()), 'Fare'] = median_fare\n",
    "if len(test.Age[ test.Age.isnull() ]) > 0:\n",
    "    test.loc[ (test.Age.isnull()), 'Age'] = median_age\n",
    "if len(test.Fare[ test.Fare.isnull() ]) > 0:\n",
    "    test.loc[ (test.Fare.isnull()), 'Fare'] = median_fare\n",
    "data=data[[\"Survived\", \"Pclass\", \"Gender\", \"Age\", \"SibSp\", \"Parch\", \"Fare\", \"Numbered_Embarked\"]].dropna(axis=0, how='any')\n",
    "test=test[[\"PassengerId\", \"Pclass\", \"Gender\", \"Age\", \"SibSp\", \"Parch\", \"Fare\", \"Numbered_Embarked\"]].dropna(axis=0, how='any')\n",
    "used_features =[\"Pclass\", \"Gender\", \"Age\", \"SibSp\", \"Parch\", \"Fare\", \"Numbered_Embarked\"]\n",
    "data_y = data[[\"Survived\"]]\n",
    "data_y = data_y.T\n",
    "data_used_features = data[used_features]\n",
    "data_used_features = data_used_features.T\n",
    "test_used_features = test[used_features]\n",
    "test_used_features = test_used_features.T"
   ]
  },
  {
   "cell_type": "code",
   "execution_count": 4,
   "metadata": {},
   "outputs": [
    {
     "name": "stdout",
     "output_type": "stream",
     "text": [
      "(7, 418)\n",
      "(7, 891)\n",
      "(1, 891)\n"
     ]
    }
   ],
   "source": [
    "print(test_used_features.shape)\n",
    "print(data_used_features.shape)\n",
    "print(data_y.shape)"
   ]
  },
  {
   "cell_type": "markdown",
   "metadata": {},
   "source": [
    "## Implementation"
   ]
  },
  {
   "cell_type": "code",
   "execution_count": 5,
   "metadata": {},
   "outputs": [],
   "source": [
    "def sigmoid(z):\n",
    "    s = 1 / (1 + np.exp(-1*z))\n",
    "    return s"
   ]
  },
  {
   "cell_type": "code",
   "execution_count": 6,
   "metadata": {},
   "outputs": [],
   "source": [
    "def initialize_with_zeros(dim):\n",
    "    w = np.zeros(shape=(dim, 1))\n",
    "    b = 0\n",
    "    return w, b"
   ]
  },
  {
   "cell_type": "code",
   "execution_count": 7,
   "metadata": {},
   "outputs": [],
   "source": [
    "def propagate(w, b, X, Y):\n",
    "    m = X.shape[1]\n",
    "    #THIS PRINT STATMENTS JUST FOR DEBUGGING\n",
    "    #print(np.dot(w.T, X).shape)\n",
    "    #print(np.dot(w.T, X))\n",
    "    #print(np.dot(w.T, X)+b) #HERE IS THE PROBLEM\n",
    "    V = np.dot(w.T, X)\n",
    "    Z = V + np.full(V.shape,b)\n",
    "    A = sigmoid(Z) \n",
    "    cost = (- 1 / m) * np.sum(Y * np.log(A) + (1 - Y) * (np.log(1 - A)))\n",
    "    dw = (1 / m) * np.dot(X, (A - Y).T)\n",
    "    db = (1 / m) * np.sum(np.sum(A - Y))\n",
    "    cost = np.squeeze(cost)\n",
    "    grads = {\"dw\": dw,\n",
    "             \"db\": db}\n",
    "    return grads, cost"
   ]
  },
  {
   "cell_type": "code",
   "execution_count": 8,
   "metadata": {},
   "outputs": [],
   "source": [
    "def optimize(w, b, X, Y, num_iterations, learning_rate):\n",
    "    costs = []\n",
    "    for i in range(num_iterations):\n",
    "        grads, cost = propagate(w, b, X, Y)\n",
    "        dw = grads[\"dw\"]\n",
    "        db = grads[\"db\"]\n",
    "        w = w - learning_rate * dw\n",
    "        b = b - learning_rate * db\n",
    "        if i % 100 == 0:\n",
    "            costs.append(cost)\n",
    "    params = {\"w\": w,\n",
    "              \"b\": b}\n",
    "    grads = {\"dw\": dw,\n",
    "             \"db\": db}\n",
    "    return params, grads, costs"
   ]
  },
  {
   "cell_type": "code",
   "execution_count": 9,
   "metadata": {},
   "outputs": [],
   "source": [
    "def predict(w, b, X):\n",
    "    m = X.shape[1]\n",
    "    Y_prediction = np.zeros((1, m))\n",
    "    w = w.reshape(X.shape[0], 1)\n",
    "    V = np.dot(w.T, X)\n",
    "    Z = V + np.full(V.shape,b)\n",
    "    A = sigmoid(Z)\n",
    "    for i in range(A.shape[1]):\n",
    "        Y_prediction[0, i] = 1 if A[0, i] > 0.5 else 0\n",
    "    return Y_prediction"
   ]
  },
  {
   "cell_type": "markdown",
   "metadata": {},
   "source": [
    "## Training"
   ]
  },
  {
   "cell_type": "code",
   "execution_count": 10,
   "metadata": {
    "scrolled": false
   },
   "outputs": [
    {
     "name": "stdout",
     "output_type": "stream",
     "text": [
      "(7, 418)\n",
      "(7, 891)\n",
      "(1, 891)\n",
      "(7, 1)\n"
     ]
    },
    {
     "name": "stderr",
     "output_type": "stream",
     "text": [
      "/home/ahmad/anaconda3/envs/tensorflow/lib/python3.5/site-packages/ipykernel/__main__.py:10: RuntimeWarning: divide by zero encountered in log\n"
     ]
    },
    {
     "name": "stdout",
     "output_type": "stream",
     "text": [
      "(7, 1)\n",
      "[[ -1.11355478e+00]\n",
      " [  3.97038044e+00]\n",
      " [ -9.52928034e-02]\n",
      " [ -7.69681321e-01]\n",
      " [ -3.64755765e-01]\n",
      " [  1.31637646e-03]\n",
      " [  2.93161171e-01]]\n",
      "()\n",
      "1.93033619831\n",
      "[[ 0.  0.  0.  0.  0.  0.  1.  0.  1.  0.  0.  0.  1.  0.  0.  1.  0.  0.\n",
      "   0.  0.  0.  0.  1.  0.  0.  0.  1.  0.  0.  0.  0.  0.  0.  0.  0.  0.\n",
      "   0.  1.  0.  0.  0.  0.  0.  1.  0.  0.  0.  0.  0.  0.  0.  0.  0.  0.\n",
      "   0.  0.  0.  0.  0.  1.  0.  0.  0.  1.  0.  1.  1.  0.  0.  0.  1.  0.\n",
      "   0.  0.  1.  0.  0.  0.  0.  1.  0.  0.  0.  0.  0.  0.  1.  1.  1.  0.\n",
      "   0.  0.  1.  0.  0.  0.  0.  0.  1.  0.  1.  0.  0.  0.  1.  0.  0.  0.\n",
      "   0.  0.  0.  1.  1.  1.  0.  0.  0.  1.  0.  1.  1.  0.  1.  0.  0.  1.\n",
      "   0.  0.  0.  0.  0.  0.  0.  0.  0.  0.  0.  0.  1.  0.  0.  1.  0.  0.\n",
      "   0.  0.  0.  0.  0.  0.  1.  0.  0.  0.  0.  0.  1.  1.  0.  0.  1.  0.\n",
      "   1.  0.  0.  0.  0.  0.  1.  1.  0.  0.  0.  0.  0.  1.  1.  0.  0.  0.\n",
      "   0.  0.  1.  0.  1.  0.  1.  0.  0.  0.  0.  0.  0.  0.  0.  0.  0.  1.\n",
      "   0.  0.  1.  0.  0.  1.  0.  0.  0.  0.  1.  0.  0.  0.  0.  0.  0.  0.\n",
      "   1.  0.  0.  0.  1.  0.  1.  0.  1.  0.  0.  1.  0.  0.  0.  1.  0.  0.\n",
      "   0.  0.  0.  0.  1.  0.  0.  0.  0.  0.  0.  0.  1.  0.  1.  0.  1.  0.\n",
      "   0.  0.  0.  0.  0.  0.  1.  0.  0.  0.  1.  1.  0.  0.  0.  0.  0.  0.\n",
      "   0.  0.  1.  0.  0.  1.  0.  0.  0.  0.  1.  0.  1.  1.  1.  0.  0.  0.\n",
      "   0.  0.  0.  1.  0.  0.  0.  0.  1.  0.  0.  0.  0.  0.  0.  0.  1.  0.\n",
      "   0.  0.  0.  0.  0.  0.  0.  0.  1.  1.  0.  0.  0.  0.  0.  0.  0.  0.\n",
      "   1.  0.  1.  0.  0.  0.  0.  0.  0.  0.  0.  0.  0.  0.  0.  0.  0.  0.\n",
      "   0.  0.  0.  1.  0.  0.  0.  1.  1.  0.  0.  0.  1.  0.  0.  0.  0.  0.\n",
      "   0.  1.  1.  0.  1.  0.  0.  1.  1.  0.  0.  1.  0.  0.  0.  1.  0.  0.\n",
      "   0.  0.  0.  0.  0.  1.  0.  0.  0.  0.  0.  0.  0.  0.  0.  0.  0.  1.\n",
      "   0.  0.  0.  0.  1.  0.  1.  0.  0.  0.  0.  0.  1.  1.  1.  1.  0.  0.\n",
      "   1.  0.  0.  0.]]\n"
     ]
    }
   ],
   "source": [
    "w, b = initialize_with_zeros(data_used_features.shape[0])\n",
    "print(test_used_features.shape)\n",
    "print(data_used_features.shape)\n",
    "print(data_y.shape)\n",
    "print(w.shape)\n",
    "#print(b.shape)\n",
    "parameters, grads, costs = optimize(w, b, data_used_features, data_y, 100000, 0.01)\n",
    "w = parameters[\"w\"]\n",
    "b = parameters[\"b\"]\n",
    "print(w.shape)\n",
    "print(w)\n",
    "print(b.shape)\n",
    "print(b)\n",
    "Y_prediction_test = predict(w, b, test_used_features)\n",
    "print(Y_prediction_test)"
   ]
  },
  {
   "cell_type": "code",
   "execution_count": 11,
   "metadata": {},
   "outputs": [
    {
     "data": {
      "text/plain": [
       "(418,)"
      ]
     },
     "execution_count": 11,
     "metadata": {},
     "output_type": "execute_result"
    }
   ],
   "source": [
    "Y_pred = Y_prediction_test.reshape(418,)\n",
    "Y_pred.shape\n",
    "Y = Y_pred.astype(int)\n",
    "Y.shape"
   ]
  },
  {
   "cell_type": "code",
   "execution_count": 12,
   "metadata": {},
   "outputs": [
    {
     "data": {
      "text/plain": [
       "(418,)"
      ]
     },
     "execution_count": 12,
     "metadata": {},
     "output_type": "execute_result"
    }
   ],
   "source": [
    "ids = test['PassengerId'].values\n",
    "ids.shape"
   ]
  },
  {
   "cell_type": "code",
   "execution_count": 13,
   "metadata": {},
   "outputs": [],
   "source": [
    "predictions_file = open(\"predictions.csv\", \"wt\")\n",
    "open_file_object = csv.writer(predictions_file)\n",
    "open_file_object.writerow([\"PassengerId\",\"Survived\"])\n",
    "open_file_object.writerows(zip(ids, Y))\n",
    "predictions_file.close()"
   ]
  }
 ],
 "metadata": {
  "kernelspec": {
   "display_name": "Python [conda env:tensorflow]",
   "language": "python",
   "name": "conda-env-tensorflow-py"
  },
  "language_info": {
   "codemirror_mode": {
    "name": "ipython",
    "version": 3
   },
   "file_extension": ".py",
   "mimetype": "text/x-python",
   "name": "python",
   "nbconvert_exporter": "python",
   "pygments_lexer": "ipython3",
   "version": "3.5.4"
  }
 },
 "nbformat": 4,
 "nbformat_minor": 2
}
